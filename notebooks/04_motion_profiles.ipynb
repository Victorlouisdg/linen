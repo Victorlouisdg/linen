{
 "cells": [
  {
   "cell_type": "code",
   "execution_count": null,
   "metadata": {},
   "outputs": [],
   "source": [
    "from linen.matplotlib.path_1d import plot_path_1d\n",
    "from linen.path.reparametrization.minimum_jerk import minimum_jerk_path\n",
    "from linen.path.reparametrization.speed import scale_speed\n",
    "from linen.path.transformation.differentation import differentiated\n",
    "import matplotlib.pyplot as plt\n",
    "\n",
    "\n",
    "def plot_motion_profile(path):\n",
    "    _, ax = plt.subplots(figsize = (14, 6))\n",
    "    path_scaled = scale_speed(path, 0.25) # Scale to make the plot nicer\n",
    "    path_diff1 = differentiated(path_scaled)\n",
    "    path_diff2 = differentiated(path_scaled, n=2)\n",
    "    path_diff3 = differentiated(path_scaled, n=3)\n",
    "    plot_path_1d(path_scaled, ax=ax)\n",
    "    plot_path_1d(path_diff1, ax=ax)\n",
    "    plot_path_1d(path_diff2, ax=ax)\n",
    "    plot_path_1d(path_diff3, ax=ax)\n",
    "    ax.set_ylim(-0.6, 1.1)\n",
    "    ax.legend([\"Position\", \"Velocity\", \"Acceleration\", \"Jerk\"])\n",
    "\n",
    "path = minimum_jerk_path()\n",
    "plot_motion_profile(path)"
   ]
  },
  {
   "cell_type": "code",
   "execution_count": null,
   "metadata": {},
   "outputs": [],
   "source": [
    "from linen.path.reparametrization.trapezoidal import trapezoidal_acceleration_path\n",
    "\n",
    "path = trapezoidal_acceleration_path()\n",
    "plot_path_1d(path)"
   ]
  },
  {
   "cell_type": "code",
   "execution_count": null,
   "metadata": {},
   "outputs": [],
   "source": [
    "from linen.path.reparametrization.trapezoidal import trapezoidal_velocity_path\n",
    "\n",
    "path = trapezoidal_velocity_path()\n",
    "plot_path_1d(path)"
   ]
  },
  {
   "cell_type": "code",
   "execution_count": null,
   "metadata": {},
   "outputs": [],
   "source": [
    "from linen.path.reparametrization.trapezoidal import trapezoidal_position_path\n",
    "\n",
    "path = trapezoidal_position_path()\n",
    "plot_path_1d(path)"
   ]
  }
 ],
 "metadata": {
  "kernelspec": {
   "display_name": "airo-blender",
   "language": "python",
   "name": "python3"
  },
  "language_info": {
   "codemirror_mode": {
    "name": "ipython",
    "version": 3
   },
   "file_extension": ".py",
   "mimetype": "text/x-python",
   "name": "python",
   "nbconvert_exporter": "python",
   "pygments_lexer": "ipython3",
   "version": "3.10.10"
  },
  "orig_nbformat": 4
 },
 "nbformat": 4,
 "nbformat_minor": 2
}
