{
 "cells": [
  {
   "attachments": {},
   "cell_type": "markdown",
   "metadata": {},
   "source": [
    "# Arc Length Parametrization"
   ]
  },
  {
   "cell_type": "code",
   "execution_count": null,
   "metadata": {},
   "outputs": [],
   "source": [
    "import numpy as np\n",
    "from linen.matplotlib.path_2d import animate_path_2d\n",
    "from linen.path.path import Path\n",
    "from IPython.display import HTML"
   ]
  },
  {
   "cell_type": "code",
   "execution_count": null,
   "metadata": {},
   "outputs": [],
   "source": [
    "from linen.path.polynomial.bezier import cubic_bezier_path\n",
    "\n",
    "start = np.zeros(2)\n",
    "control_point1 = np.array([2.0, 0.0])\n",
    "control_point2 = np.array([0.0, 0.5])\n",
    "end = np.array([2.0, 0.5])\n",
    "\n",
    "cubic_bezier = cubic_bezier_path(start, control_point1, control_point2, end)"
   ]
  },
  {
   "cell_type": "code",
   "execution_count": null,
   "metadata": {},
   "outputs": [],
   "source": [
    "def animate_bezier(path: Path):\n",
    "    fig, ax, animation = animate_path_2d(path, fps=60);\n",
    "    fig.set_size_inches(12, 4)\n",
    "\n",
    "    control_points = np.row_stack([start, control_point1, control_point2, end])\n",
    "    x, y = control_points.T\n",
    "    ax.plot(x, y, 'o--');\n",
    "\n",
    "    samples = np.array([path(t) for t in np.linspace(path.start_time, path.end_time, 25)])\n",
    "    x, y = samples.T\n",
    "    ax.scatter(x, y, zorder=10);\n",
    "\n",
    "    ax.legend(['Cubic Bezier', 'Current Position', 'Control Points']);\n",
    "\n",
    "    return HTML(animation.to_jshtml())\n",
    "\n",
    "animate_bezier(cubic_bezier)"
   ]
  },
  {
   "cell_type": "code",
   "execution_count": null,
   "metadata": {},
   "outputs": [],
   "source": [
    "from linen.path.reparametrization.arc_length import arc_length_parametrize\n",
    "\n",
    "\n",
    "cubic_bezier_alp = arc_length_parametrize(cubic_bezier)\n",
    "print(cubic_bezier_alp.duration)\n"
   ]
  },
  {
   "cell_type": "code",
   "execution_count": null,
   "metadata": {},
   "outputs": [],
   "source": [
    "animate_bezier(cubic_bezier_alp)"
   ]
  }
 ],
 "metadata": {
  "kernelspec": {
   "display_name": "airo-blender",
   "language": "python",
   "name": "python3"
  },
  "language_info": {
   "codemirror_mode": {
    "name": "ipython",
    "version": 3
   },
   "file_extension": ".py",
   "mimetype": "text/x-python",
   "name": "python",
   "nbconvert_exporter": "python",
   "pygments_lexer": "ipython3",
   "version": "3.10.10"
  },
  "orig_nbformat": 4
 },
 "nbformat": 4,
 "nbformat_minor": 2
}
