{
 "cells": [
  {
   "cell_type": "code",
   "execution_count": null,
   "metadata": {},
   "outputs": [],
   "source": [
    "from synthetic_cloth_data.geometric_templates import create_tshirt_vertices, TshirtMeshConfig\n",
    "import numpy as np\n",
    "import matplotlib.pyplot as plt\n",
    "from ipywidgets import interact, Layout\n",
    "import ipywidgets as widgets\n",
    "from dataclasses import fields\n",
    "from linen.folding.fold_lines.shirt import shirt_sleeve_and_side_fold_line\n"
   ]
  },
  {
   "cell_type": "code",
   "execution_count": null,
   "metadata": {},
   "outputs": [],
   "source": [
    "def slider(default_value):\n",
    "    return widgets.FloatSlider(min=0.0, max=1.0, step=0.01, value=default_value, style={\"description_width\": \"120px\"}, layout=Layout(width='500px'))\n",
    "\n",
    "fields_defaults = {f.name: f.default for f in fields(TshirtMeshConfig)}\n",
    "sliders = {k: slider(v) for k, v in fields_defaults.items()}\n",
    "\n",
    "@interact(**sliders)\n",
    "def plot_shirt(**kwargs):\n",
    "    tshirt_config = TshirtMeshConfig(**kwargs)\n",
    "    vertices, keypoints = create_tshirt_vertices(tshirt_config)\n",
    "    x, y, _ = np.array(vertices).T\n",
    "    plt.scatter(x, y)\n",
    "    plt.fill(x, y, fill=False)\n",
    "\n",
    "    fold_line = shirt_sleeve_and_side_fold_line(keypoints)\n",
    "    fold_line_point, fold_line_direction = fold_line\n",
    "    fold_line_points = np.array([fold_line_point + 0.5 * fold_line_direction, fold_line_point - fold_line_direction])\n",
    "    x, y, _ = fold_line_points.T\n",
    "    plt.plot(x, y, color=\"red\")\n",
    "\n",
    "    fold_line = shirt_sleeve_and_side_fold_line(keypoints, left=False)\n",
    "    fold_line_point, fold_line_direction = fold_line\n",
    "    fold_line_points = np.array([fold_line_point + fold_line_direction, fold_line_point - 0.5 *fold_line_direction])\n",
    "    x, y, _ = fold_line_points.T\n",
    "    plt.plot(x, y, color=\"green\")\n",
    "    \n"
   ]
  },
  {
   "cell_type": "code",
   "execution_count": null,
   "metadata": {},
   "outputs": [],
   "source": []
  }
 ],
 "metadata": {
  "kernelspec": {
   "display_name": "airo-blender",
   "language": "python",
   "name": "python3"
  },
  "language_info": {
   "codemirror_mode": {
    "name": "ipython",
    "version": 3
   },
   "file_extension": ".py",
   "mimetype": "text/x-python",
   "name": "python",
   "nbconvert_exporter": "python",
   "pygments_lexer": "ipython3",
   "version": "3.10.10"
  },
  "orig_nbformat": 4
 },
 "nbformat": 4,
 "nbformat_minor": 2
}
