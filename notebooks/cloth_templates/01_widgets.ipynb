{
 "cells": [
  {
   "cell_type": "code",
   "execution_count": null,
   "metadata": {},
   "outputs": [],
   "source": [
    "from synthetic_cloth_data.geometric_templates import create_tshirt_vertices, TshirtMeshConfig\n",
    "import numpy as np\n",
    "import matplotlib.pyplot as plt\n",
    "from ipywidgets import interact, Layout\n",
    "import ipywidgets as widgets\n",
    "from dataclasses import fields\n"
   ]
  },
  {
   "cell_type": "code",
   "execution_count": null,
   "metadata": {},
   "outputs": [],
   "source": [
    "def slider(default_value):\n",
    "    return widgets.FloatSlider(min=0.0, max=1.0, step=0.01, value=default_value, style={\"description_width\": \"120px\"}, layout=Layout(width='500px'))\n",
    "\n",
    "fields_defaults = {f.name: f.default for f in fields(TshirtMeshConfig)}\n",
    "sliders = {k: slider(v) for k, v in fields_defaults.items()}\n",
    "\n",
    "@interact(**sliders)\n",
    "def plot_shirt(**kwargs):\n",
    "    tshirt_config = TshirtMeshConfig(**kwargs)\n",
    "    vertices, _ = create_tshirt_vertices(tshirt_config)\n",
    "    x, y, _ = np.array(vertices).T\n",
    "    plt.scatter(x, y)\n",
    "    plt.fill(x, y, fill=False)\n"
   ]
  },
  {
   "cell_type": "code",
   "execution_count": null,
   "metadata": {},
   "outputs": [],
   "source": [
    "tshirt_config = TshirtMeshConfig()\n",
    "vertices, keypoints = create_tshirt_vertices(tshirt_config)\n",
    "\n",
    "\n",
    "x, y, _ = np.array(vertices).T\n",
    "plt.scatter(x, y)\n",
    "plt.fill(x, y, fill=False)\n"
   ]
  }
 ],
 "metadata": {
  "kernelspec": {
   "display_name": "airo-blender",
   "language": "python",
   "name": "python3"
  },
  "language_info": {
   "codemirror_mode": {
    "name": "ipython",
    "version": 3
   },
   "file_extension": ".py",
   "mimetype": "text/x-python",
   "name": "python",
   "nbconvert_exporter": "python",
   "pygments_lexer": "ipython3",
   "version": "3.10.10"
  },
  "orig_nbformat": 4
 },
 "nbformat": 4,
 "nbformat_minor": 2
}
