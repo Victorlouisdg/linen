{
 "cells": [
  {
   "attachments": {},
   "cell_type": "markdown",
   "metadata": {},
   "source": [
    "# Path Gallery\n",
    "An overview of several of the Paths available in Linen."
   ]
  },
  {
   "cell_type": "code",
   "execution_count": null,
   "metadata": {},
   "outputs": [],
   "source": [
    "import numpy as np\n",
    "from linen.matplotlib.path_2d import animate_path_2d\n",
    "from linen.matplotlib.path_3d import animate_path_3d\n",
    "from IPython.display import HTML"
   ]
  },
  {
   "cell_type": "code",
   "execution_count": null,
   "metadata": {},
   "outputs": [],
   "source": [
    "from linen.path.linear import linear_trajectory\n",
    "\n",
    "A = np.array([0,0])\n",
    "B = np.array([2,1])\n",
    "linear_trajectory_AB = linear_trajectory(A, B, speed=1.5)\n",
    "\n",
    "animation = animate_path_2d(linear_trajectory_AB, fps=60)\n",
    "HTML(animation.to_jshtml())"
   ]
  },
  {
   "cell_type": "code",
   "execution_count": null,
   "metadata": {},
   "outputs": [],
   "source": [
    "from linen.path.circular_arc import circular_arc_position_trajectory\n",
    "\n",
    "\n",
    "start = np.zeros(3)\n",
    "center = np.array([0.5, 0.0, 0.0])\n",
    "axis = np.array([0.0, 1.0, 0.0])\n",
    "max_angle = np.pi\n",
    "speed = 1.0\n",
    "\n",
    "circular_trajectory = circular_arc_position_trajectory(start, center, axis, max_angle, speed)\n",
    "circular_trajectory(np.pi / 2)"
   ]
  },
  {
   "cell_type": "code",
   "execution_count": null,
   "metadata": {},
   "outputs": [],
   "source": [
    "animation = animate_path_3d(circular_trajectory, fps=60);\n",
    "HTML(animation.to_jshtml())"
   ]
  },
  {
   "cell_type": "code",
   "execution_count": null,
   "metadata": {},
   "outputs": [],
   "source": []
  }
 ],
 "metadata": {
  "kernelspec": {
   "display_name": "airo-blender",
   "language": "python",
   "name": "python3"
  },
  "language_info": {
   "codemirror_mode": {
    "name": "ipython",
    "version": 3
   },
   "file_extension": ".py",
   "mimetype": "text/x-python",
   "name": "python",
   "nbconvert_exporter": "python",
   "pygments_lexer": "ipython3",
   "version": "3.10.10"
  },
  "orig_nbformat": 4
 },
 "nbformat": 4,
 "nbformat_minor": 2
}
