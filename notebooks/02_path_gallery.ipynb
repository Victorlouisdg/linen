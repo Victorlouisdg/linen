{
 "cells": [
  {
   "attachments": {},
   "cell_type": "markdown",
   "metadata": {},
   "source": [
    "# Path Gallery\n",
    "An overview of several of the Paths available in Linen."
   ]
  },
  {
   "cell_type": "code",
   "execution_count": null,
   "metadata": {},
   "outputs": [],
   "source": [
    "import numpy as np\n",
    "from linen.matplotlib.path_2d import animate_path_2d\n",
    "from linen.matplotlib.path_3d import animate_path_3d\n",
    "from IPython.display import HTML"
   ]
  },
  {
   "attachments": {},
   "cell_type": "markdown",
   "metadata": {},
   "source": [
    "## Linear"
   ]
  },
  {
   "cell_type": "code",
   "execution_count": null,
   "metadata": {},
   "outputs": [],
   "source": [
    "from linen.path.linear import linear_trajectory\n",
    "\n",
    "A = np.array([0,0])\n",
    "B = np.array([2,1])\n",
    "linear_trajectory_AB = linear_trajectory(A, B, speed=1.5)\n",
    "\n",
    "fig, ax, animation = animate_path_2d(linear_trajectory_AB, fps=60)\n",
    "HTML(animation.to_jshtml())"
   ]
  },
  {
   "attachments": {},
   "cell_type": "markdown",
   "metadata": {},
   "source": [
    "## Circular"
   ]
  },
  {
   "cell_type": "code",
   "execution_count": null,
   "metadata": {},
   "outputs": [],
   "source": [
    "from linen.path.circular_arc import circular_arc_position_trajectory\n",
    "\n",
    "\n",
    "start = np.zeros(3)\n",
    "center = np.array([0.5, 0.0, 0.0])\n",
    "axis = np.array([0.0, 1.0, 0.0])\n",
    "max_angle = np.pi\n",
    "speed = 1.0\n",
    "\n",
    "circular_trajectory = circular_arc_position_trajectory(start, center, axis, max_angle, speed)\n",
    "circular_trajectory(np.pi / 2)"
   ]
  },
  {
   "cell_type": "code",
   "execution_count": null,
   "metadata": {},
   "outputs": [],
   "source": [
    "fig, ax, animation = animate_path_3d(circular_trajectory, fps=60);\n",
    "HTML(animation.to_jshtml())"
   ]
  },
  {
   "attachments": {},
   "cell_type": "markdown",
   "metadata": {},
   "source": [
    "## Polynomial Curves\n",
    "### Quadratic Bezier"
   ]
  },
  {
   "cell_type": "code",
   "execution_count": null,
   "metadata": {},
   "outputs": [],
   "source": [
    "from linen.path.polynomial.bezier import quadratic_bezier_path\n",
    "\n",
    "start = np.zeros(3)\n",
    "middle_control_point = np.array([0.5, 0.0, 1.0])\n",
    "end = np.array([1.0, 0.0, 0.0])\n",
    "\n",
    "quadratic_bezier = quadratic_bezier_path(start, middle_control_point, end)"
   ]
  },
  {
   "cell_type": "code",
   "execution_count": null,
   "metadata": {},
   "outputs": [],
   "source": [
    "fig, ax, animation = animate_path_3d(quadratic_bezier, fps=60);\n",
    "\n",
    "control_points = np.row_stack([start, middle_control_point, end])\n",
    "x, y, z = control_points.T\n",
    "ax.plot(x, y, z, 'o--');\n",
    "ax.legend(['Quadratic Bezier', 'Current Position', 'Control Points']);\n",
    "\n",
    "HTML(animation.to_jshtml())"
   ]
  },
  {
   "attachments": {},
   "cell_type": "markdown",
   "metadata": {},
   "source": [
    "### Cubic Bezier"
   ]
  },
  {
   "cell_type": "code",
   "execution_count": null,
   "metadata": {},
   "outputs": [],
   "source": [
    "from linen.path.polynomial.bezier import cubic_bezier_path\n",
    "\n",
    "start = np.zeros(3)\n",
    "control_point1 = np.array([0.5, 0.0, 1.0])\n",
    "control_point2 = np.array([0.5, 0.0, -1.0])\n",
    "end = np.array([1.0, 0.0, 0.0])\n",
    "\n",
    "cubic_bezier = cubic_bezier_path(start, control_point1, control_point2, end)"
   ]
  },
  {
   "cell_type": "code",
   "execution_count": null,
   "metadata": {},
   "outputs": [],
   "source": [
    "fig, ax, animation = animate_path_3d(cubic_bezier, fps=60);\n",
    "\n",
    "control_points = np.row_stack([start, control_point1, control_point2, end])\n",
    "x, y, z = control_points.T\n",
    "ax.plot(x, y, z, 'o--');\n",
    "\n",
    "ax.legend(['Cubic Bezier', 'Current Position', 'Control Points']);\n",
    "\n",
    "HTML(animation.to_jshtml())"
   ]
  },
  {
   "attachments": {},
   "cell_type": "markdown",
   "metadata": {},
   "source": [
    "### Hermite"
   ]
  },
  {
   "cell_type": "code",
   "execution_count": null,
   "metadata": {},
   "outputs": [],
   "source": [
    "from linen.path.polynomial.hermite import hermite_path\n",
    "\n",
    "start = np.zeros(3)\n",
    "start_tangent = np.array([1.0, 0.0, 1.0])\n",
    "end = np.array([0.5, 0.0, 0.0])\n",
    "end_tangent = np.array([-1.0, 0.0, -0.1])\n",
    "\n",
    "hermite = hermite_path(start, start_tangent, end, end_tangent)"
   ]
  },
  {
   "cell_type": "code",
   "execution_count": null,
   "metadata": {},
   "outputs": [],
   "source": [
    "fig, ax, animation = animate_path_3d(hermite, fps=60);\n",
    "\n",
    "scale = 0.2\n",
    "start_points = np.row_stack([start, start + scale * start_tangent])\n",
    "end_points = np.row_stack([end, end + scale *  end_tangent])\n",
    "\n",
    "x, y, z = start_points.T\n",
    "ax.plot(x, y, z, 'o--');\n",
    "x, y, z = end_points.T\n",
    "ax.plot(x, y, z, 'o--');\n",
    "\n",
    "ax.legend(['Hermite', 'Current Position', 'Start Tangent', 'End Tangent']);\n",
    "\n",
    "HTML(animation.to_jshtml())"
   ]
  },
  {
   "attachments": {},
   "cell_type": "markdown",
   "metadata": {},
   "source": [
    "### Catmull-Rom"
   ]
  },
  {
   "cell_type": "code",
   "execution_count": null,
   "metadata": {},
   "outputs": [],
   "source": [
    "from linen.path.polynomial.catmull_rom import catmull_rom_path\n",
    "\n",
    "start = np.zeros(3)\n",
    "control_point1 = np.array([0.33, 0.0, 0.25])\n",
    "control_point2 = np.array([0.66, 0.0, -0.25])\n",
    "end = np.array([1.0, 0.0, 0.0])\n",
    "\n",
    "points = [start, control_point1, control_point2, end]\n",
    "\n",
    "catmull_rom = catmull_rom_path(points)"
   ]
  },
  {
   "cell_type": "code",
   "execution_count": null,
   "metadata": {},
   "outputs": [],
   "source": [
    "fig, ax, animation = animate_path_3d(catmull_rom, fps=60);\n",
    "\n",
    "control_points = np.row_stack([start, control_point1, control_point2, end])\n",
    "x, y, z = control_points.T\n",
    "ax.scatter(x, y, z, marker='o');\n",
    "ax.legend(['Catmull-Rom', 'Current Position', 'Control Points']);\n",
    "\n",
    "HTML(animation.to_jshtml())"
   ]
  },
  {
   "attachments": {},
   "cell_type": "markdown",
   "metadata": {},
   "source": [
    "### Cardinal"
   ]
  },
  {
   "cell_type": "code",
   "execution_count": null,
   "metadata": {},
   "outputs": [],
   "source": [
    "from linen.path.polynomial.cardinal import cardinal_path\n",
    "\n",
    "cardinal = cardinal_path(points, scale=0.4)"
   ]
  },
  {
   "cell_type": "code",
   "execution_count": null,
   "metadata": {},
   "outputs": [],
   "source": [
    "fig, ax, animation = animate_path_3d(cardinal, fps=60);\n",
    "\n",
    "ax.scatter(x, y, z, marker='o');\n",
    "ax.legend(['Cardinal', 'Current Position', 'Control Points']);\n",
    "\n",
    "HTML(animation.to_jshtml())"
   ]
  },
  {
   "attachments": {},
   "cell_type": "markdown",
   "metadata": {},
   "source": [
    "### B-Spline"
   ]
  },
  {
   "cell_type": "code",
   "execution_count": null,
   "metadata": {},
   "outputs": [],
   "source": [
    "from linen.path.polynomial.bspline import bspline_path\n",
    "\n",
    "bspline = bspline_path(start, control_point1, control_point2, end)"
   ]
  },
  {
   "cell_type": "code",
   "execution_count": null,
   "metadata": {},
   "outputs": [],
   "source": [
    "fig, ax, animation = animate_path_3d(bspline, fps=60);\n",
    "\n",
    "control_points = np.row_stack([start, control_point1, control_point2, end])\n",
    "x, y, z = control_points.T\n",
    "ax.plot(x, y, z, 'o--');\n",
    "ax.legend(['B-spline', 'Current Position', 'Control Points']);\n",
    "\n",
    "HTML(animation.to_jshtml())"
   ]
  }
 ],
 "metadata": {
  "kernelspec": {
   "display_name": "airo-blender",
   "language": "python",
   "name": "python3"
  },
  "language_info": {
   "codemirror_mode": {
    "name": "ipython",
    "version": 3
   },
   "file_extension": ".py",
   "mimetype": "text/x-python",
   "name": "python",
   "nbconvert_exporter": "python",
   "pygments_lexer": "ipython3",
   "version": "3.10.10"
  },
  "orig_nbformat": 4
 },
 "nbformat": 4,
 "nbformat_minor": 2
}
