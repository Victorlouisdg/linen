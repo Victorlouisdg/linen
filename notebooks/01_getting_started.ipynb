{
 "cells": [
  {
   "attachments": {},
   "cell_type": "markdown",
   "metadata": {},
   "source": [
    "# Getting started with Linen\n",
    "This notebook is a quick introduction to Linen. \n",
    "It will teach you how to use Linen Paths and define your own custom ones."
   ]
  },
  {
   "cell_type": "code",
   "execution_count": null,
   "metadata": {},
   "outputs": [],
   "source": [
    "import matplotlib.pyplot as plt\n",
    "import numpy as np"
   ]
  },
  {
   "attachments": {},
   "cell_type": "markdown",
   "metadata": {},
   "source": [
    "The core class in Linen is the Path class.\n",
    "Below we show usage of the Path class through the example of a linear trajectory.\n",
    "\n",
    "Check out the `linen/path/linear.py` file for the implementation."
   ]
  },
  {
   "attachments": {},
   "cell_type": "markdown",
   "metadata": {},
   "source": [
    "## Linear path\n",
    "\n",
    "A Path is a very lightweight wrapper on top of a function.\n",
    "This function should take a single scalar argument and return a point.\n",
    "\n",
    "To build a linear path, we start from a `linear_interpolation` function:"
   ]
  },
  {
   "cell_type": "code",
   "execution_count": null,
   "metadata": {},
   "outputs": [],
   "source": [
    "from linen.path.linear import linear_interpolation\n",
    "\n",
    "A = np.array([0,0])\n",
    "B = np.array([2,1])\n",
    "\n",
    "lerp_AB = linear_interpolation(A, B)\n",
    "\n",
    "lerp_AB(0.5)"
   ]
  },
  {
   "cell_type": "code",
   "execution_count": null,
   "metadata": {},
   "outputs": [],
   "source": [
    "t_range = np.linspace(0, 1, 20)\n",
    "points = np.array([lerp_AB(t) for t in t_range])\n",
    "x, y = points.T\n",
    "plt.plot(x, y, 'o-');"
   ]
  },
  {
   "cell_type": "code",
   "execution_count": null,
   "metadata": {},
   "outputs": [],
   "source": [
    "from linen.matplotlib.path import plot_path_2D\n",
    "from linen.path.linear import linear_path\n",
    "\n",
    "linear_path_AB = linear_path(A, B)\n",
    "linear_path_AB\n",
    "\n",
    "plot_path_2D(linear_path_AB);"
   ]
  },
  {
   "cell_type": "code",
   "execution_count": null,
   "metadata": {},
   "outputs": [],
   "source": [
    "# %matplotlib ipympl"
   ]
  },
  {
   "cell_type": "code",
   "execution_count": null,
   "metadata": {},
   "outputs": [],
   "source": [
    "from linen.matplotlib.path import animate_path_2D\n",
    "from IPython.display import HTML\n",
    "\n",
    "animation = animate_path_2D(linear_path_AB, fps=60)\n",
    "HTML(animation.to_jshtml())\n",
    "# HTML(anim.to_html5_video()) # Use this if you want to save the animation as a video\n"
   ]
  },
  {
   "attachments": {},
   "cell_type": "markdown",
   "metadata": {},
   "source": [
    "A Path behaves exactly like a function, so you can call it like before:"
   ]
  },
  {
   "cell_type": "code",
   "execution_count": null,
   "metadata": {},
   "outputs": [],
   "source": [
    "linear_path_AB(0.5)"
   ]
  },
  {
   "attachments": {},
   "cell_type": "markdown",
   "metadata": {},
   "source": [
    "This is simply forwards the call to the underlying function that defines the path:"
   ]
  },
  {
   "cell_type": "code",
   "execution_count": null,
   "metadata": {},
   "outputs": [],
   "source": [
    "linear_path_AB.function(0.5)"
   ]
  },
  {
   "attachments": {},
   "cell_type": "markdown",
   "metadata": {},
   "source": [
    "A Path also has two extra pieces of data attached to it: its start and end time."
   ]
  },
  {
   "cell_type": "code",
   "execution_count": null,
   "metadata": {},
   "outputs": [],
   "source": [
    "linear_path_AB.start_time"
   ]
  },
  {
   "cell_type": "code",
   "execution_count": null,
   "metadata": {},
   "outputs": [],
   "source": [
    "linear_path_AB.end_time"
   ]
  },
  {
   "attachments": {},
   "cell_type": "markdown",
   "metadata": {},
   "source": [
    "By having these two attriubtes in the Path class, we reduce the amount of bookkeeping and possiblity of error when passing around Paths.\n",
    "For example, if you slow down a trajectory, we need to update the Path's `function` and update its `end_time`.\n",
    "\n",
    "The `scale_speed` function internally does both these things for you:"
   ]
  },
  {
   "cell_type": "code",
   "execution_count": null,
   "metadata": {},
   "outputs": [],
   "source": [
    "from linen.path.speed import scale_speed\n",
    "\n",
    "slower_path_AB = scale_speed(linear_path_AB, 0.1)\n",
    "slower_path_AB(5.0)"
   ]
  },
  {
   "attachments": {},
   "cell_type": "markdown",
   "metadata": {},
   "source": [
    "## Path vs. Trajectory\n",
    "\n",
    "In Linen, trajectories are also implemented as `Path`s, we haven't found a reason to differentiate between the two.\n",
    "We do however have a naming convention:\n",
    "* Variables/functions with `path` in the name only promise what the shape of the path will be. They needn't have a reasonable speed profiles.\n",
    "* Variables/functions with `trajectory` in the name are already a bit more refined and ready to be used e.g. for execution by a robot.\n",
    "\n",
    "For example, the `linear_trajectory` function takes as argument a speed, and returns a Path with that constant speed."
   ]
  },
  {
   "cell_type": "code",
   "execution_count": null,
   "metadata": {},
   "outputs": [],
   "source": [
    "from linen.path.linear import linear_trajectory\n",
    "\n",
    "linear_trajectory_AB = linear_trajectory(A, B, speed=1.0)\n",
    "linear_trajectory_AB(0.5)"
   ]
  },
  {
   "cell_type": "code",
   "execution_count": null,
   "metadata": {},
   "outputs": [],
   "source": [
    "animation = animate_path_2D(linear_trajectory_AB, fps=60);\n",
    "HTML(animation.to_jshtml())"
   ]
  },
  {
   "attachments": {},
   "cell_type": "markdown",
   "metadata": {},
   "source": [
    "Paths additionally have a few read-only properties for convenience:"
   ]
  },
  {
   "cell_type": "code",
   "execution_count": null,
   "metadata": {},
   "outputs": [],
   "source": [
    "linear_trajectory_AB.start"
   ]
  },
  {
   "cell_type": "code",
   "execution_count": null,
   "metadata": {},
   "outputs": [],
   "source": [
    "linear_trajectory_AB.end"
   ]
  },
  {
   "cell_type": "code",
   "execution_count": null,
   "metadata": {},
   "outputs": [],
   "source": [
    "linear_trajectory_AB.duration"
   ]
  },
  {
   "cell_type": "code",
   "execution_count": null,
   "metadata": {},
   "outputs": [],
   "source": [
    "np.linalg.norm(B-A)"
   ]
  },
  {
   "attachments": {},
   "cell_type": "markdown",
   "metadata": {},
   "source": [
    "## Custom Paths\n",
    "\n",
    "As an example, we'll show here how you can implement the [Lemniscate of Bernoulli](https://en.wikipedia.org/wiki/Lemniscate_of_Bernoulli) as a Linen Path."
   ]
  },
  {
   "cell_type": "code",
   "execution_count": null,
   "metadata": {},
   "outputs": [],
   "source": [
    "def lemniscate(t):\n",
    "    x = np.cos(t) / (1 + np.sin(t)**2)\n",
    "    y = np.sin(t) * np.cos(t) / (1 + np.sin(t)**2)\n",
    "    return np.array([x, y])"
   ]
  },
  {
   "cell_type": "code",
   "execution_count": null,
   "metadata": {},
   "outputs": [],
   "source": [
    "from linen.path.path import Path\n",
    "\n",
    "lemniscate_path = Path(lemniscate, start_time=0, end_time=2*np.pi)"
   ]
  },
  {
   "cell_type": "code",
   "execution_count": null,
   "metadata": {},
   "outputs": [],
   "source": [
    "animation = animate_path_2D(lemniscate_path, fps=60);\n",
    "HTML(animation.to_jshtml())\n"
   ]
  }
 ],
 "metadata": {
  "kernelspec": {
   "display_name": "airo-blender",
   "language": "python",
   "name": "python3"
  },
  "language_info": {
   "codemirror_mode": {
    "name": "ipython",
    "version": 3
   },
   "file_extension": ".py",
   "mimetype": "text/x-python",
   "name": "python",
   "nbconvert_exporter": "python",
   "pygments_lexer": "ipython3",
   "version": "3.10.10"
  },
  "orig_nbformat": 4
 },
 "nbformat": 4,
 "nbformat_minor": 2
}
